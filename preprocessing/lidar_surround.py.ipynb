{
 "cells": [
  {
   "cell_type": "code",
   "execution_count": 1,
   "metadata": {},
   "outputs": [
    {
     "name": "stderr",
     "output_type": "stream",
     "text": [
      "/root/miniconda2/lib/python2.7/site-packages/traits/etsconfig/etsconfig.py:429: UserWarning: Environment variable \"HOME\" not set, setting home directory to /tmp\n",
      "  (environment_variable, parent_directory))\n"
     ]
    }
   ],
   "source": [
    "import os\n",
    "os.environ['HOME'] = '/root'\n",
    "\n",
    "SEED = 202\n",
    "\n",
    "\n",
    "# std libs\n",
    "import glob\n",
    "\n",
    "\n",
    "# num libs\n",
    "import math\n",
    "import random\n",
    "import numpy as np\n",
    "random.seed(SEED)\n",
    "np.random.seed(SEED)\n",
    "\n",
    "import cv2\n",
    "import mayavi.mlab as mlab\n",
    "\n",
    "#rom didi_data.lidar import *\n",
    "from lidar import *"
   ]
  },
  {
   "cell_type": "code",
   "execution_count": 2,
   "metadata": {
    "collapsed": true
   },
   "outputs": [],
   "source": [
    "\n",
    "\n",
    "## 360 side view from\n",
    "## http://ronny.rest/blog/post_2017_04_03_point_cloud_panorama/\n",
    "## See Bo li's paper:\n",
    "##    http://prclibo.github.io/\n",
    "##    [1] \"Multi-View 3D Object Detection Network for Autonomous Driving\" - Xiaozhi Chen, Huimin Ma, Ji Wan, Bo Li and Tian Xia , arXiv 2016\n",
    "##    [2] \"3D Fully Convolutional Network for Vehicle Detection in Point Cloud\" - Bo Li, arXiv 2016\n",
    "##    [3] \"Vehicle Detection from 3D Lidar Using Fully Convolutional Network\" - Bo Li and Tianlei Zhang and Tian Xia , arXiv 2016\n",
    "##\n",
    "\n",
    "\n",
    "##   cylindrial projection\n",
    "SURROUND_U_STEP = 1.    #resolution\n",
    "SURROUND_V_STEP = 1.33\n",
    "SURROUND_U_MIN, SURROUND_U_MAX = np.array([0,    360])/SURROUND_U_STEP  # horizontal of cylindrial projection\n",
    "SURROUND_V_MIN, SURROUND_V_MAX = np.array([-90,   90])/SURROUND_V_STEP  # vertical   of cylindrial projection\n"
   ]
  },
  {
   "cell_type": "code",
   "execution_count": 3,
   "metadata": {
    "collapsed": true
   },
   "outputs": [],
   "source": [
    "def lidar_to_surround_coords(x, y, z, d ):\n",
    "    u =   np.arctan2(x, y)/np.pi*180 /SURROUND_U_STEP\n",
    "    v = - np.arctan2(z, d)/np.pi*180 /SURROUND_V_STEP\n",
    "    u = (u +90)%360  ##<todo> car will be spit into 2 at boundary  ...\n",
    "\n",
    "    u = np.rint(u)\n",
    "    v = np.rint(v)\n",
    "    u = (u - SURROUND_U_MIN).astype(np.uint8)\n",
    "    v = (v - SURROUND_V_MIN).astype(np.uint8)\n",
    "\n",
    "    return u,v\n"
   ]
  },
  {
   "cell_type": "code",
   "execution_count": 4,
   "metadata": {
    "collapsed": true
   },
   "outputs": [],
   "source": [
    "\n",
    "def lidar_to_surround(lidar):\n",
    "    def normalise_to_255(a):\n",
    "        return (((a - min(a)) / float(max(a) - min(a))) * 255).astype(np.uint8)\n",
    "\n",
    "    x = lidar['x']\n",
    "    y = lidar['y']\n",
    "    z = lidar['z']\n",
    "    r = lidar['intensity']\n",
    "    d = np.sqrt(x ** 2 + y ** 2)  # map distance relative to origin\n",
    "    u,v = lidar_to_surround_coords(x,y,z,d)\n",
    "\n",
    "    width  = int(SURROUND_U_MAX - SURROUND_U_MIN + 1)\n",
    "    height = int(SURROUND_V_MAX - SURROUND_V_MIN + 1)\n",
    "    surround     = np.zeros((height, width, 3), dtype=np.float32)\n",
    "    surround_img = np.zeros((height, width, 3), dtype=np.uint8)\n",
    "\n",
    "    surround[v, u, 0] = d\n",
    "    surround[v, u, 1] = z\n",
    "    surround[v, u, 2] = r\n",
    "    surround_img[v, u, 0] = normalise_to_255(np.clip(d,     0, 30))\n",
    "    surround_img[v, u, 1] = normalise_to_255(np.clip(z+1.8, 0, 100))\n",
    "    surround_img[v, u, 2] = normalise_to_255(np.clip(r,     0, 30))\n",
    "\n",
    "    return surround, surround_img"
   ]
  },
  {
   "cell_type": "code",
   "execution_count": 5,
   "metadata": {
    "collapsed": true
   },
   "outputs": [],
   "source": [
    "## drawing ####\n",
    "def box3d_to_surround_box(boxes3d):\n",
    "    is_reshape = boxes3d.shape==(8,3) #support for single box3d\n",
    "\n",
    "    if is_reshape:\n",
    "        boxes3d = boxes3d.reshape(1,8,3)\n",
    "\n",
    "    num = len(boxes3d)\n",
    "    surround_boxes = np.zeros((num,4),  dtype=np.float32)\n",
    "    for n in range(num):\n",
    "        b = boxes3d[n]\n",
    "\n",
    "        x = b[:,0]\n",
    "        y = b[:,1]\n",
    "        z = b[:,2]\n",
    "        d = np.sqrt(x ** 2 + y ** 2)\n",
    "        u,v = lidar_to_surround_coords(x,y,z,d)\n",
    "        umin,umax = np.min(u),np.max(u)\n",
    "        vmin,vmax = np.min(v),np.max(v)\n",
    "        surround_boxes[n] = np.array([umin,vmin,umax,vmax])\n",
    "\n",
    "    if is_reshape:\n",
    "        surround_boxes = surround_boxes.squeeze()\n",
    "\n",
    "    return surround_boxes"
   ]
  },
  {
   "cell_type": "code",
   "execution_count": 6,
   "metadata": {
    "collapsed": true
   },
   "outputs": [],
   "source": [
    "\n",
    "def draw_box3d_on_surround(image, boxes3d, color=(255,255,255)):\n",
    "\n",
    "    surround_boxes = box3d_to_surround_box(boxes3d)\n",
    "    is_reshape = surround_boxes.shape==(4)\n",
    "    if is_reshape:\n",
    "        surround_boxes = surround_boxes.reshape(1,4)\n",
    "\n",
    "    num = len(surround_boxes)\n",
    "    for n in range(num):\n",
    "        b = surround_boxes[n]\n",
    "        x1,y1,x2,y2  = b\n",
    "        cv2.rectangle(image,(x1,y1),(x2,y2),color,1,cv2.LINE_AA)\n"
   ]
  },
  {
   "cell_type": "code",
   "execution_count": 7,
   "metadata": {
    "collapsed": true
   },
   "outputs": [],
   "source": [
    "def imshow2(name, image, resize=1):\n",
    "    H,W = image.shape[0:2]\n",
    "    cv2.namedWindow(name, cv2.WINDOW_NORMAL)\n",
    "    cv2.imshow(name, image.astype(np.uint8))\n",
    "    cv2.resizeWindow(name, int(round(resize*W)), int(round(resize*H)))\n",
    "    \n",
    "    "
   ]
  },
  {
   "cell_type": "code",
   "execution_count": 8,
   "metadata": {
    "collapsed": true
   },
   "outputs": [],
   "source": [
    "!rm -rf ./processed/lidar_surround\n",
    "!rm -rf ./processed/lidar_surround_img\n",
    "!rm -rf ./processed/mark-surround-box\n",
    "!rm -rf ./~temp_png"
   ]
  },
  {
   "cell_type": "code",
   "execution_count": 9,
   "metadata": {
    "collapsed": true
   },
   "outputs": [],
   "source": [
    "lidar_dir              = './lidar'\n",
    "gt_boxes3d_dir         = './processed/gt_boxes3d'\n",
    "lidar_surround_dir     = './processed/lidar_surround'\n",
    "lidar_surround_img_dir = './processed/lidar_surround_img'\n",
    "\n",
    "mark_dir  = './processed/mark-surround-box'\n",
    "avi_file  = './processed/mark-surround-box.avi'\n",
    "\n",
    "os.makedirs(lidar_surround_dir)#, exist_ok=True)\n",
    "os.makedirs(lidar_surround_img_dir)#, exist_ok=True)\n",
    "os.makedirs(mark_dir)#, exist_ok=True)\n"
   ]
  },
  {
   "cell_type": "code",
   "execution_count": 10,
   "metadata": {
    "collapsed": true
   },
   "outputs": [],
   "source": [
    "fig   = mlab.figure(figure=None, bgcolor=(0,0,0), fgcolor=None, engine=None, size=(500, 500))\n",
    "for file in sorted(glob.glob(lidar_dir + '/*.npy')):\n",
    "        name = os.path.basename(file).replace('.npy','')\n",
    "\n",
    "        lidar_file         = lidar_dir +'/'+name+'.npy'\n",
    "        surround_file      = lidar_surround_dir +'/'+name+'.npy'\n",
    "        surround_img_file  = lidar_surround_img_dir +'/'+name+'.png'\n",
    "        mark_file    = mark_dir +'/'+name+'.png'\n",
    "        boxes3d_file = gt_boxes3d_dir+'/'+name+'.npy'\n",
    "\n",
    "        lidar = np.load(lidar_file)\n",
    "        surround, surround_img = lidar_to_surround(lidar)\n",
    "        boxes3d = np.load(boxes3d_file)\n",
    "\n",
    "        #save\n",
    "        cv2.imwrite(surround_img_file,surround_img)\n",
    "        np.save(surround_file,surround)\n",
    "\n",
    "        #show\n",
    "        mlab.clf(fig)\n",
    "        draw_didi_lidar(fig, lidar, is_grid=1, is_axis=1)\n",
    "\n",
    "        if len(boxes3d)!=0:\n",
    "            draw_didi_boxes3d(fig, boxes3d)\n",
    "            draw_box3d_on_surround(surround_img, boxes3d, color=(255,255,255))\n",
    "\n",
    "        azimuth,elevation,distance,focalpoint = MM_PER_VIEW1\n",
    "        mlab.view(azimuth,elevation,distance,focalpoint)\n",
    "\n",
    "        mlab.show(1)\n",
    "        imshow('surround_img',surround_img,3)\n",
    "        cv2.waitKey(10)\n",
    "\n",
    "        #save\n",
    "        cv2.imwrite(mark_file,surround_img)"
   ]
  },
  {
   "cell_type": "code",
   "execution_count": 11,
   "metadata": {
    "collapsed": true
   },
   "outputs": [],
   "source": [
    "dir_to_avi(avi_file, mark_dir)"
   ]
  },
  {
   "cell_type": "markdown",
   "metadata": {},
   "source": [
    "```python\n",
    "\n",
    "# main #################################################################\n",
    "# for demo data:  /root/share/project/didi/data/didi/didi-2/Out/1/15\n",
    "\n",
    "if __name__ == '__main__':\n",
    "\n",
    "    lidar_dir              = '/root/share/project/didi/data/didi/didi-2/Out/1/15/lidar'\n",
    "    gt_boxes3d_dir         = '/root/share/project/didi/data/didi/didi-2/Out/1/15/processed/gt_boxes3d'\n",
    "    lidar_surround_dir     = '/root/share/project/didi/data/didi/didi-2/Out/1/15/processed/lidar_surround'\n",
    "    lidar_surround_img_dir = '/root/share/project/didi/data/didi/didi-2/Out/1/15/processed/lidar_surround_img'\n",
    "\n",
    "    mark_dir  = '/root/share/project/didi/data/didi/didi-2/Out/1/15/processed/mark-surround-box'\n",
    "    avi_file  = '/root/share/project/didi/data/didi/didi-2/Out/1/15/processed/mark-surround-box.avi'\n",
    "    os.makedirs(lidar_surround_dir, exist_ok=True)\n",
    "    os.makedirs(lidar_surround_img_dir, exist_ok=True)\n",
    "    os.makedirs(mark_dir, exist_ok=True)\n",
    "\n",
    "    fig   = mlab.figure(figure=None, bgcolor=(0,0,0), fgcolor=None, engine=None, size=(500, 500))\n",
    "    for file in sorted(glob.glob(lidar_dir + '/*.npy')):\n",
    "        name = os.path.basename(file).replace('.npy','')\n",
    "\n",
    "        lidar_file         = lidar_dir +'/'+name+'.npy'\n",
    "        surround_file      = lidar_surround_dir +'/'+name+'.npy'\n",
    "        surround_img_file  = lidar_surround_img_dir +'/'+name+'.png'\n",
    "        mark_file    = mark_dir +'/'+name+'.png'\n",
    "        boxes3d_file = gt_boxes3d_dir+'/'+name+'.npy'\n",
    "\n",
    "        lidar = np.load(lidar_file)\n",
    "        surround, surround_img = lidar_to_surround(lidar)\n",
    "        boxes3d = np.load(boxes3d_file)\n",
    "\n",
    "        #save\n",
    "        cv2.imwrite(surround_img_file,surround_img)\n",
    "        np.save(surround_file,surround)\n",
    "\n",
    "        #show\n",
    "        mlab.clf(fig)\n",
    "        draw_didi_lidar(fig, lidar, is_grid=1, is_axis=1)\n",
    "\n",
    "        if len(boxes3d)!=0:\n",
    "            draw_didi_boxes3d(fig, boxes3d)\n",
    "            draw_box3d_on_surround(surround_img, boxes3d, color=(255,255,255))\n",
    "\n",
    "        azimuth,elevation,distance,focalpoint = MM_PER_VIEW1\n",
    "        mlab.view(azimuth,elevation,distance,focalpoint)\n",
    "\n",
    "        mlab.show(1)\n",
    "        imshow('surround_img',surround_img,3)\n",
    "        cv2.waitKey(10)\n",
    "\n",
    "        #save\n",
    "        cv2.imwrite(mark_file,surround_img)\n",
    "\n",
    "    dir_to_avi(avi_file, mark_dir)\n",
    "```"
   ]
  }
 ],
 "metadata": {
  "kernelspec": {
   "display_name": "Python 2",
   "language": "python",
   "name": "python2"
  },
  "language_info": {
   "codemirror_mode": {
    "name": "ipython",
    "version": 2
   },
   "file_extension": ".py",
   "mimetype": "text/x-python",
   "name": "python",
   "nbconvert_exporter": "python",
   "pygments_lexer": "ipython2",
   "version": "2.7.13"
  }
 },
 "nbformat": 4,
 "nbformat_minor": 2
}
