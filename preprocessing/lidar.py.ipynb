{
 "cells": [
  {
   "cell_type": "code",
   "execution_count": 1,
   "metadata": {
    "ExecuteTime": {
     "end_time": "2017-05-24T17:51:18.891069Z",
     "start_time": "2017-05-24T17:51:08.363163Z"
    }
   },
   "outputs": [
    {
     "name": "stderr",
     "output_type": "stream",
     "text": [
      "/root/miniconda2/lib/python2.7/site-packages/traits/etsconfig/etsconfig.py:429: UserWarning: Environment variable \"HOME\" not set, setting home directory to /tmp\n",
      "  (environment_variable, parent_directory))\n"
     ]
    }
   ],
   "source": [
    "import os\n",
    "os.environ['HOME'] = '/root'\n",
    "\n",
    "SEED = 202\n",
    "\n",
    "\n",
    "# std libs\n",
    "import glob\n",
    "\n",
    "\n",
    "# num libs\n",
    "import math\n",
    "import random\n",
    "import numpy as np\n",
    "random.seed(SEED)\n",
    "np.random.seed(SEED)\n",
    "\n",
    "import cv2\n",
    "import mayavi.mlab as mlab\n",
    "\n",
    "\n",
    "from net.utility.draw import *\n"
   ]
  },
  {
   "cell_type": "code",
   "execution_count": 2,
   "metadata": {
    "collapsed": true
   },
   "outputs": [],
   "source": [
    "\n",
    "\n",
    "## save mpg:\n",
    "##    os.system('ffmpeg -y -loglevel 0 -f image2 -r 15 -i %s/test/predictions/%%06d.png -b:v 2500k %s'%(out_dir,out_avi_file))\n",
    "##\n",
    "##----------------------------------------------------------------------------\n",
    "\n",
    "## preset view points\n",
    "#  azimuth=180,elevation=0,distance=100,focalpoint=[0,0,0]\n",
    "## mlab.view(azimuth=azimuth,elevation=elevation,distance=distance,focalpoint=focalpoint)\n",
    "MM_TOP_VIEW  = 180, 0, 120, [0,0,0]\n",
    "MM_PER_VIEW1 = 120, 30, 70, [0,0,0]\n",
    "MM_PER_VIEW2 = 30, 45, 100, [0,0,0]\n",
    "MM_PER_VIEW3 = 120, 30,100, [0,0,0]\n"
   ]
  },
  {
   "cell_type": "code",
   "execution_count": 3,
   "metadata": {
    "collapsed": true
   },
   "outputs": [],
   "source": [
    "## draw  --------------------------------------------\n",
    "\n",
    "def draw_didi_lidar(fig, lidar, is_grid=1, is_axis=1):\n",
    "\n",
    "    pxs=lidar['x']\n",
    "    pys=lidar['y']\n",
    "    pzs=lidar['z']\n",
    "    prs=lidar['intensity']\n",
    "    #prs=arr['ring']\n",
    "    prs = np.clip(prs/15,0,1)\n",
    "\n",
    "    #draw grid\n",
    "    if is_grid:\n",
    "        L=25\n",
    "        dL=5\n",
    "        Z=-2\n",
    "        mlab.points3d(0, 0, 0, color=(1,1,1), mode='sphere', scale_factor=0.2)\n",
    "\n",
    "        for y in np.arange(-L,L+1,dL):\n",
    "            x1,y1,z1 = -L, y, Z\n",
    "            x2,y2,z2 =  L, y, Z\n",
    "            mlab.plot3d([x1, x2], [y1, y2], [z1,z2], color=(0.3,0.3,0.3), tube_radius=None, line_width=1, figure=fig)\n",
    "\n",
    "        for x in np.arange(-L,L+1,dL):\n",
    "            x1,y1,z1 = x,-L, Z\n",
    "            x2,y2,z2 = x, L, Z\n",
    "            mlab.plot3d([x1, x2], [y1, y2], [z1,z2], color=(0.3,0.3,0.3), tube_radius=None, line_width=1, figure=fig)\n",
    "\n",
    "    #draw axis\n",
    "    if is_axis:\n",
    "        axes=np.array([\n",
    "            [2.,0.,0.,0.],\n",
    "            [0.,2.,0.,0.],\n",
    "            [0.,0.,2.,0.],\n",
    "        ],dtype=np.float64)\n",
    "\n",
    "        mlab.points3d(0, 0, 0, color=(1,1,1), mode='sphere', scale_factor=0.2)\n",
    "        mlab.plot3d([0, axes[0,0]], [0, axes[0,1]], [0, axes[0,2]], color=(1,0,0), tube_radius=None, line_width=2, figure=fig)\n",
    "        mlab.plot3d([0, axes[1,0]], [0, axes[1,1]], [0, axes[1,2]], color=(0,1,0), tube_radius=None, line_width=2, figure=fig)\n",
    "        mlab.plot3d([0, axes[2,0]], [0, axes[2,1]], [0, axes[2,2]], color=(0,0,1), tube_radius=None, line_width=2, figure=fig)\n",
    "\n",
    "\n",
    "    mlab.points3d(\n",
    "        pxs, pys, pzs, prs,\n",
    "        mode='point',  # 'point'  'sphere'\n",
    "        #colormap='bone',  #(0.7,0.7,0.7),  #'gnuplot',  #'bone',  #'spectral',  #'copper',\n",
    "        #color=(0.9,0.9,0.9),\n",
    "        #color=(0.9,0.9,0),\n",
    "        scale_factor=1,\n",
    "        figure=fig)"
   ]
  },
  {
   "cell_type": "code",
   "execution_count": 4,
   "metadata": {
    "collapsed": true
   },
   "outputs": [],
   "source": [
    "def draw_didi_boxes3d(fig, boxes3d, is_number=False, color=(1,1,1), line_width=1):\n",
    "\n",
    "    if boxes3d.shape==(8,3): boxes3d=boxes3d.reshape(1,8,3)\n",
    "\n",
    "    num = len(boxes3d)\n",
    "    for n in range(num):\n",
    "        b = boxes3d[n]\n",
    "\n",
    "        if is_number:\n",
    "            mlab.text3d(b[0,0], b[0,1], b[0,2], '%d'%n, scale=(1, 1, 1), color=color, figure=fig)\n",
    "        for k in range(0,4):\n",
    "\n",
    "            #http://docs.enthought.com/mayavi/mayavi/auto/mlab_helper_functions.html\n",
    "            i,j=k,(k+1)%4\n",
    "            mlab.plot3d([b[i,0], b[j,0]], [b[i,1], b[j,1]], [b[i,2], b[j,2]], color=color, tube_radius=None, line_width=line_width, figure=fig)\n",
    "\n",
    "            i,j=k+4,(k+1)%4 + 4\n",
    "            mlab.plot3d([b[i,0], b[j,0]], [b[i,1], b[j,1]], [b[i,2], b[j,2]], color=color, tube_radius=None, line_width=line_width, figure=fig)\n",
    "\n",
    "            i,j=k,k+4\n",
    "            mlab.plot3d([b[i,0], b[j,0]], [b[i,1], b[j,1]], [b[i,2], b[j,2]], color=color, tube_radius=None, line_width=line_width, figure=fig)\n",
    "\n",
    "\n",
    "\n"
   ]
  },
  {
   "cell_type": "code",
   "execution_count": 5,
   "metadata": {
    "collapsed": true
   },
   "outputs": [],
   "source": [
    "\n",
    "# run #################################################################\n",
    "\n",
    "def mark_gt_box3d( lidar_dir, gt_boxes3d_dir, mark_dir):\n",
    "\n",
    "    #os.makedirs(mark_dir, exist_ok=True)\n",
    "    os.makedirs(mark_dir)\n",
    "    fig   = mlab.figure(figure=None, bgcolor=(0,0,0), fgcolor=None, engine=None, size=(500, 500))\n",
    "    dummy = np.zeros((10,10,3),dtype=np.uint8)\n",
    "\n",
    "    for file in sorted(glob.glob(lidar_dir + '/*.npy')):\n",
    "        name = os.path.basename(file).replace('.npy','')\n",
    "\n",
    "        lidar_file   = lidar_dir     +'/'+name+'.npy'\n",
    "        boxes3d_file = gt_boxes3d_dir+'/'+name+'.npy'\n",
    "        lidar   = np.load(lidar_file)\n",
    "        boxes3d = np.load(boxes3d_file)\n",
    "\n",
    "        mlab.clf(fig)\n",
    "        draw_didi_lidar(fig, lidar, is_grid=1, is_axis=1)\n",
    "        if len(boxes3d)!=0:\n",
    "            draw_didi_boxes3d(fig, boxes3d)\n",
    "\n",
    "        azimuth,elevation,distance,focalpoint = MM_PER_VIEW1\n",
    "        mlab.view(azimuth,elevation,distance,focalpoint)\n",
    "        mlab.show(1)\n",
    "        #imshow('dummy',dummy)\n",
    "        #cv2.waitKey(1)\n",
    "\n",
    "        mlab.savefig(mark_dir+'/'+name+'.png',figure=fig)\n",
    "\n"
   ]
  },
  {
   "cell_type": "code",
   "execution_count": 6,
   "metadata": {
    "collapsed": true
   },
   "outputs": [],
   "source": [
    "lidar_dir      ='./lidar'\n",
    "gt_boxes3d_dir ='./processed/gt_boxes3d'  #git에서 파일 복사후 이동 \n",
    "mark_dir       ='./processed/mark-gt-box3d'\n",
    "avi_file       ='./processed/mark-gt-box3d.avi'"
   ]
  },
  {
   "cell_type": "code",
   "execution_count": 7,
   "metadata": {
    "collapsed": true
   },
   "outputs": [],
   "source": [
    "!rm -rf /root/Didi-competition-solution/processed/mark-gt-box3d\n",
    "!rm -rf ./~temp_png/"
   ]
  },
  {
   "cell_type": "code",
   "execution_count": 8,
   "metadata": {
    "collapsed": true
   },
   "outputs": [],
   "source": [
    "mark_gt_box3d(lidar_dir,gt_boxes3d_dir,mark_dir)\n",
    "\n",
    "#Read \n",
    "#- lidar_file   = lidar_dir     +'/'+name+'.npy'\n",
    "#- boxes3d_file = gt_boxes3d_dir+'/'+name+'.npy'\n",
    "\n",
    "#Write \n",
    "#- /processed/mark-gt-box3d"
   ]
  },
  {
   "cell_type": "code",
   "execution_count": 9,
   "metadata": {},
   "outputs": [
    {
     "ename": "OSError",
     "evalue": "[Errno 17] File exists: '~temp_png'",
     "output_type": "error",
     "traceback": [
      "\u001b[0;31m---------------------------------------------------------------------------\u001b[0m",
      "\u001b[0;31mOSError\u001b[0m                                   Traceback (most recent call last)",
      "\u001b[0;32m<ipython-input-9-4f795b4a41b4>\u001b[0m in \u001b[0;36m<module>\u001b[0;34m()\u001b[0m\n\u001b[0;32m----> 1\u001b[0;31m \u001b[0mdir_to_avi\u001b[0m\u001b[0;34m(\u001b[0m\u001b[0mavi_file\u001b[0m\u001b[0;34m,\u001b[0m \u001b[0mmark_dir\u001b[0m\u001b[0;34m)\u001b[0m\u001b[0;34m\u001b[0m\u001b[0m\n\u001b[0m",
      "\u001b[0;32m/root/Didi-competition-solution/net/utility/draw.pyc\u001b[0m in \u001b[0;36mdir_to_avi\u001b[0;34m(avi_file, png_dir)\u001b[0m\n\u001b[1;32m     24\u001b[0m \u001b[0;34m\u001b[0m\u001b[0m\n\u001b[1;32m     25\u001b[0m     \u001b[0mtmp_dir\u001b[0m \u001b[0;34m=\u001b[0m \u001b[0;34m'~temp_png'\u001b[0m\u001b[0;34m\u001b[0m\u001b[0m\n\u001b[0;32m---> 26\u001b[0;31m     \u001b[0mos\u001b[0m\u001b[0;34m.\u001b[0m\u001b[0mmakedirs\u001b[0m\u001b[0;34m(\u001b[0m\u001b[0mtmp_dir\u001b[0m\u001b[0;34m)\u001b[0m\u001b[0;34m\u001b[0m\u001b[0m\n\u001b[0m\u001b[1;32m     27\u001b[0m \u001b[0;34m\u001b[0m\u001b[0m\n\u001b[1;32m     28\u001b[0m     \u001b[0;32mfor\u001b[0m \u001b[0mi\u001b[0m\u001b[0;34m,\u001b[0m \u001b[0mfile\u001b[0m \u001b[0;32min\u001b[0m \u001b[0menumerate\u001b[0m\u001b[0;34m(\u001b[0m\u001b[0msorted\u001b[0m\u001b[0;34m(\u001b[0m\u001b[0mglob\u001b[0m\u001b[0;34m.\u001b[0m\u001b[0mglob\u001b[0m\u001b[0;34m(\u001b[0m\u001b[0mpng_dir\u001b[0m \u001b[0;34m+\u001b[0m \u001b[0;34m'/*.png'\u001b[0m\u001b[0;34m)\u001b[0m\u001b[0;34m)\u001b[0m\u001b[0;34m)\u001b[0m\u001b[0;34m:\u001b[0m\u001b[0;34m\u001b[0m\u001b[0m\n",
      "\u001b[0;32m/root/miniconda2/lib/python2.7/os.pyc\u001b[0m in \u001b[0;36mmakedirs\u001b[0;34m(name, mode)\u001b[0m\n\u001b[1;32m    155\u001b[0m         \u001b[0;32mif\u001b[0m \u001b[0mtail\u001b[0m \u001b[0;34m==\u001b[0m \u001b[0mcurdir\u001b[0m\u001b[0;34m:\u001b[0m           \u001b[0;31m# xxx/newdir/. exists if xxx/newdir exists\u001b[0m\u001b[0;34m\u001b[0m\u001b[0m\n\u001b[1;32m    156\u001b[0m             \u001b[0;32mreturn\u001b[0m\u001b[0;34m\u001b[0m\u001b[0m\n\u001b[0;32m--> 157\u001b[0;31m     \u001b[0mmkdir\u001b[0m\u001b[0;34m(\u001b[0m\u001b[0mname\u001b[0m\u001b[0;34m,\u001b[0m \u001b[0mmode\u001b[0m\u001b[0;34m)\u001b[0m\u001b[0;34m\u001b[0m\u001b[0m\n\u001b[0m\u001b[1;32m    158\u001b[0m \u001b[0;34m\u001b[0m\u001b[0m\n\u001b[1;32m    159\u001b[0m \u001b[0;32mdef\u001b[0m \u001b[0mremovedirs\u001b[0m\u001b[0;34m(\u001b[0m\u001b[0mname\u001b[0m\u001b[0;34m)\u001b[0m\u001b[0;34m:\u001b[0m\u001b[0;34m\u001b[0m\u001b[0m\n",
      "\u001b[0;31mOSError\u001b[0m: [Errno 17] File exists: '~temp_png'"
     ]
    }
   ],
   "source": [
    "dir_to_avi(avi_file, mark_dir)"
   ]
  },
  {
   "cell_type": "markdown",
   "metadata": {
    "collapsed": true
   },
   "source": [
    "\n",
    "\n",
    "```python\n",
    "\n",
    "# main #################################################################\n",
    "# for demo data:  /root/share/project/didi/data/didi/didi-2/Out/1/15\n",
    "\n",
    "if __name__ == '__main__':\n",
    "    print( '%s: calling main function ... ' % os.path.basename(__file__))\n",
    "\n",
    "    lidar_dir      ='./lidar'\n",
    "    gt_boxes3d_dir ='./processed/gt_boxes3d'\n",
    "    mark_dir       ='./processed/mark-gt-box3d'\n",
    "    avi_file       ='./processed/mark-gt-box3d.avi'\n",
    "\n",
    "    mark_gt_box3d(lidar_dir,gt_boxes3d_dir,mark_dir)\n",
    "    dir_to_avi(avi_file, mark_dir)\n",
    "\n",
    "```"
   ]
  }
 ],
 "metadata": {
  "kernelspec": {
   "display_name": "Python 2",
   "language": "python",
   "name": "python2"
  },
  "language_info": {
   "codemirror_mode": {
    "name": "ipython",
    "version": 2
   },
   "file_extension": ".py",
   "mimetype": "text/x-python",
   "name": "python",
   "nbconvert_exporter": "python",
   "pygments_lexer": "ipython2",
   "version": "2.7.13"
  },
  "varInspector": {
   "cols": {
    "lenName": 16,
    "lenType": 16,
    "lenVar": 40
   },
   "kernels_config": {
    "python": {
     "delete_cmd_postfix": "",
     "delete_cmd_prefix": "del ",
     "library": "var_list.py",
     "varRefreshCmd": "print(var_dic_list())"
    },
    "r": {
     "delete_cmd_postfix": ") ",
     "delete_cmd_prefix": "rm(",
     "library": "var_list.r",
     "varRefreshCmd": "cat(var_dic_list()) "
    }
   },
   "types_to_exclude": [
    "module",
    "function",
    "builtin_function_or_method",
    "instance",
    "_Feature"
   ],
   "window_display": false
  }
 },
 "nbformat": 4,
 "nbformat_minor": 2
}
